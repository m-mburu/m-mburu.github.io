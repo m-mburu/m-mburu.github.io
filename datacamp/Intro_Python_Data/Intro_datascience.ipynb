{
 "cells": [
  {
   "cell_type": "markdown",
   "id": "bdb087e5",
   "metadata": {},
   "source": [
    "# Introduction to Data Science in Python\n",
    "\n",
    "## Importing Python modules\n",
    "Modules (sometimes called packages or libraries) help group together related sets of tools in Python. In this exercise, we'll examine two modules that are frequently used by Data Scientists:\n",
    "\n",
    "statsmodels: used in machine learning; usually aliased as sm\n",
    "seaborn: a visualization library; usually aliased as sns\n",
    "Note that each module has a standard alias, which allows you to access the tools inside of the module without typing as many characters. For example, aliasing lets us shorten seaborn.scatterplot() to sns.scatterplot().\n"
   ]
  },
  {
   "cell_type": "code",
   "execution_count": 2,
   "id": "3d12f425",
   "metadata": {},
   "outputs": [],
   "source": [
    "import statsmodels as sm\n",
    "import seaborn as sns\n",
    "import numpy as np"
   ]
  },
  {
   "cell_type": "markdown",
   "id": "2fdd9531",
   "metadata": {},
   "source": [
    "## Creating a float\n",
    "Before we start looking for Bayes' kidnapper, we need to fill out a Missing Puppy Report with details of the case. Each piece of information will be stored as a variable.\n",
    "\n",
    "We define a variable using an equals sign (=). For instance, we would define the variable height:\n",
    "\n",
    "height = 24\n",
    "In this exercise, we'll be defining bayes_age to be 4.0 months old. The data type for this variable will be float, meaning that it is a number."
   ]
  },
  {
   "cell_type": "code",
   "execution_count": 5,
   "id": "7c14aa07",
   "metadata": {},
   "outputs": [
    {
     "data": {
      "text/plain": [
       "4.0"
      ]
     },
     "execution_count": 5,
     "metadata": {},
     "output_type": "execute_result"
    }
   ],
   "source": [
    "bayes_age = 4.0\n",
    "bayes_age"
   ]
  },
  {
   "cell_type": "markdown",
   "id": "0c817251",
   "metadata": {},
   "source": [
    "## Creating strings\n",
    "Let's continue to fill out the Missing Puppy Report for Bayes. In the previous exercise, we defined bayes_age, which was a float, which represents a number.\n",
    "\n",
    "In this exercise, we'll define favorite_toy and owner, which will both be strings. A string represents text. A string is surrounded by quotation marks (' or \") and can contain letters, numbers, and special characters. It doesn't matter if you use single (') or double (\") quotes, but it's important to be consistent throughout your code."
   ]
  },
  {
   "cell_type": "code",
   "execution_count": 7,
   "id": "695f27ca",
   "metadata": {},
   "outputs": [
    {
     "name": "stdout",
     "output_type": "stream",
     "text": [
      "Mr. Squeaky\n",
      "DataCamp\n"
     ]
    }
   ],
   "source": [
    "favorite_toy = \"Mr. Squeaky\"\n",
    "owner = \"DataCamp\"\n",
    "# Display variables\n",
    "print(favorite_toy)\n",
    "print(owner)"
   ]
  },
  {
   "cell_type": "markdown",
   "id": "f3a0fcee",
   "metadata": {},
   "source": [
    "## Correcting string errors\n",
    "It's easy to make errors when you're trying to type strings quickly.\n",
    "\n",
    "Don't forget to use quotes! Without quotes, you'll get a name error.\n",
    "owner = DataCamp\n",
    "Use the same type of quotation mark. If you start with a single quote, and end with a double quote, you'll get a syntax error.\n",
    "fur_color = \"blonde'\n",
    "Someone at the police station made an error when filling out the final lines of Bayes' Missing Puppy Report. In this exercise, you will correct the errors."
   ]
  },
  {
   "cell_type": "code",
   "execution_count": 8,
   "id": "8c8a14bb",
   "metadata": {},
   "outputs": [],
   "source": [
    "# One or more of the following lines contains an error\n",
    "# Correct it so that it runs without producing syntax errors\n",
    "birthday = '2017-07-14'\n",
    "case_id = 'DATACAMP!123-456?'"
   ]
  },
  {
   "cell_type": "code",
   "execution_count": null,
   "id": "0f11f783",
   "metadata": {},
   "outputs": [],
   "source": []
  }
 ],
 "metadata": {
  "kernelspec": {
   "display_name": "Python 3",
   "language": "python",
   "name": "python3"
  },
  "language_info": {
   "codemirror_mode": {
    "name": "ipython",
    "version": 3
   },
   "file_extension": ".py",
   "mimetype": "text/x-python",
   "name": "python",
   "nbconvert_exporter": "python",
   "pygments_lexer": "ipython3",
   "version": "3.8.8"
  }
 },
 "nbformat": 4,
 "nbformat_minor": 5
}
